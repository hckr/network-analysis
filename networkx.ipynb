{
 "metadata": {
  "language_info": {
   "codemirror_mode": {
    "name": "ipython",
    "version": 3
   },
   "file_extension": ".py",
   "mimetype": "text/x-python",
   "name": "python",
   "nbconvert_exporter": "python",
   "pygments_lexer": "ipython3",
   "version": "3.9.2"
  },
  "orig_nbformat": 4,
  "kernelspec": {
   "name": "python3",
   "display_name": "Python 3.9.2 64-bit ('network-analysis-7oIRs1LI-py3.9': venv)"
  },
  "interpreter": {
   "hash": "da3929f195c7799871d611d751b8c111a353b047e49e55f5abf096f9331029a2"
  }
 },
 "nbformat": 4,
 "nbformat_minor": 2,
 "cells": [
  {
   "cell_type": "code",
   "execution_count": 1,
   "metadata": {},
   "outputs": [],
   "source": [
    "%matplotlib ipympl\n",
    "\n",
    "import networkx as nx\n",
    "from networkx import Graph\n",
    "import matplotlib.pyplot as plt\n",
    "\n",
    "from random import randrange"
   ]
  },
  {
   "cell_type": "code",
   "execution_count": 2,
   "metadata": {},
   "outputs": [],
   "source": [
    "ws = nx.watts_strogatz_graph(100, 3, 0.2)"
   ]
  },
  {
   "cell_type": "code",
   "execution_count": 3,
   "metadata": {},
   "outputs": [
    {
     "output_type": "execute_result",
     "data": {
      "text/plain": [
       "{}"
      ]
     },
     "metadata": {},
     "execution_count": 3
    }
   ],
   "source": [
    "ws.nodes[0]"
   ]
  },
  {
   "cell_type": "code",
   "execution_count": 4,
   "metadata": {},
   "outputs": [],
   "source": [
    "def initial_seed(graph: Graph, seed_count: int):\n",
    "    new_graph = graph.copy()\n",
    "    c = 0\n",
    "    nodes_count = new_graph.number_of_nodes()\n",
    "    while c < seed_count:\n",
    "        n = randrange(nodes_count)\n",
    "        node = new_graph.nodes[n]\n",
    "        if node.get('active', False) is False:\n",
    "            node['active'] = True\n",
    "            c += 1\n",
    "    return new_graph"
   ]
  },
  {
   "cell_type": "code",
   "execution_count": 5,
   "metadata": {},
   "outputs": [],
   "source": [
    "seeded = initial_seed(ws, 25)"
   ]
  },
  {
   "cell_type": "code",
   "execution_count": 6,
   "metadata": {},
   "outputs": [
    {
     "output_type": "display_data",
     "data": {
      "text/plain": "Canvas(toolbar=Toolbar(toolitems=[('Home', 'Reset original view', 'home', 'home'), ('Back', 'Back to previous …",
      "application/vnd.jupyter.widget-view+json": {
       "version_major": 2,
       "version_minor": 0,
       "model_id": "12c5fd741d9846f897706dd805ff7374"
      }
     },
     "metadata": {}
    }
   ],
   "source": [
    "nx.draw_shell(seeded, with_labels=True, font_size=8, node_color=[('red' if seeded.nodes[n].get('active', False) else 'blue') for n in seeded.nodes])"
   ]
  },
  {
   "cell_type": "code",
   "execution_count": null,
   "metadata": {},
   "outputs": [],
   "source": []
  }
 ]
}